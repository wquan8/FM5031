{
 "cells": [
  {
   "cell_type": "code",
   "execution_count": 1,
   "source": [
    "using Dates"
   ],
   "outputs": [],
   "metadata": {}
  },
  {
   "cell_type": "code",
   "execution_count": 2,
   "source": [
    "dates = Date(2018, 1, 1):Day(1):Date(2018, 12, 31)"
   ],
   "outputs": [
    {
     "output_type": "execute_result",
     "data": {
      "text/plain": [
       "Date(\"2018-01-01\"):Day(1):Date(\"2018-12-31\")"
      ]
     },
     "metadata": {},
     "execution_count": 2
    }
   ],
   "metadata": {}
  },
  {
   "cell_type": "code",
   "execution_count": 6,
   "source": [
    "using TimeSeries\n",
    "ta = TimeArray(dates, rand(length(dates)))"
   ],
   "outputs": [
    {
     "output_type": "execute_result",
     "data": {
      "text/plain": [
       "365×1 TimeArray{Float64, 1, Date, Vector{Float64}} 2018-01-01 to 2018-12-31\n",
       "│            │ A      │\n",
       "├────────────┼────────┤\n",
       "│ 2018-01-01 │ 0.7878 │\n",
       "│ 2018-01-02 │ 0.8867 │\n",
       "│ 2018-01-03 │ 0.5928 │\n",
       "│ 2018-01-04 │ 0.3842 │\n",
       "│ 2018-01-05 │ 0.0833 │\n",
       "│ 2018-01-06 │ 0.5484 │\n",
       "│ 2018-01-07 │ 0.3314 │\n",
       "│ 2018-01-08 │ 0.3353 │\n",
       "│ 2018-01-09 │ 0.9211 │\n",
       "│ 2018-01-10 │ 0.4591 │\n",
       "│ 2018-01-11 │ 0.6479 │\n",
       "│ 2018-01-12 │ 0.1931 │\n",
       "   ⋮\n",
       "│ 2018-12-21 │ 0.4598 │\n",
       "│ 2018-12-22 │ 0.5519 │\n",
       "│ 2018-12-23 │ 0.1365 │\n",
       "│ 2018-12-24 │ 0.412  │\n",
       "│ 2018-12-25 │ 0.1578 │\n",
       "│ 2018-12-26 │ 0.5818 │\n",
       "│ 2018-12-27 │ 0.5126 │\n",
       "│ 2018-12-28 │ 0.1346 │\n",
       "│ 2018-12-29 │ 0.6646 │\n",
       "│ 2018-12-30 │ 0.6074 │\n",
       "│ 2018-12-31 │ 0.3853 │"
      ]
     },
     "metadata": {},
     "execution_count": 6
    }
   ],
   "metadata": {}
  },
  {
   "cell_type": "code",
   "execution_count": 14,
   "source": [
    "log.(values(ta.A))"
   ],
   "outputs": [
    {
     "output_type": "execute_result",
     "data": {
      "text/plain": [
       "365-element Vector{Float64}:\n",
       " -0.23852307961966956\n",
       " -0.12029879293999926\n",
       " -0.522857395120704\n",
       " -0.9566881469211442\n",
       " -2.485725532892935\n",
       " -0.6007867964299153\n",
       " -1.1044215911919044\n",
       " -1.0927455183396402\n",
       " -0.08219733467059477\n",
       " -0.7784271362991503\n",
       " -0.4339743868352555\n",
       " -1.6445486626072205\n",
       " -0.24761975003982004\n",
       "  ⋮\n",
       " -0.5166567003191671\n",
       " -0.777018180997801\n",
       " -0.5943868057376128\n",
       " -1.9914021359173224\n",
       " -0.8867660591108139\n",
       " -1.8462806904262252\n",
       " -0.5416411285003302\n",
       " -0.6683415322207643\n",
       " -2.005662672651496\n",
       " -0.4085109637922718\n",
       " -0.4985707019384471\n",
       " -0.9536440809476875"
      ]
     },
     "metadata": {},
     "execution_count": 14
    }
   ],
   "metadata": {}
  }
 ],
 "metadata": {
  "orig_nbformat": 4,
  "language_info": {
   "file_extension": ".jl",
   "name": "julia",
   "mimetype": "application/julia",
   "version": "1.6.3"
  },
  "kernelspec": {
   "name": "julia-1.6",
   "display_name": "Julia 1.6.3",
   "language": "julia"
  }
 },
 "nbformat": 4,
 "nbformat_minor": 2
}