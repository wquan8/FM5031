{
 "cells": [
  {
   "cell_type": "markdown",
   "source": [
    "https://quantscience.rbind.io/2020/03/07/using-julia-find-mle-factor-model/\n",
    "\n",
    "## Set Seed"
   ],
   "metadata": {}
  },
  {
   "cell_type": "code",
   "execution_count": 1,
   "source": [
    "using Random, Distributions\n",
    "Random.seed!(123) # Setting the seed"
   ],
   "outputs": [
    {
     "output_type": "execute_result",
     "data": {
      "text/plain": [
       "MersenneTwister(123)"
      ]
     },
     "metadata": {},
     "execution_count": 1
    }
   ],
   "metadata": {}
  },
  {
   "cell_type": "markdown",
   "source": [
    "## Generate Univarate Normal Data\n",
    "Let’s generate some normal data. In Julia the Distribution.Normal function can be used to set a Normal distribution. The Base.rand function will then generate data from that class. I was amazed that the Distributions package supported a wide range of distributions."
   ],
   "metadata": {}
  },
  {
   "cell_type": "code",
   "execution_count": 2,
   "source": [
    "d = Normal()\n",
    "x = rand(d, 100)"
   ],
   "outputs": [
    {
     "output_type": "execute_result",
     "data": {
      "text/plain": [
       "100-element Vector{Float64}:\n",
       "  1.1902678809862768\n",
       "  2.04817970778924\n",
       "  1.142650902867199\n",
       "  0.45941562040708034\n",
       " -0.396679079295223\n",
       " -0.6647125451916877\n",
       "  0.9809678267585334\n",
       " -0.07548306639775595\n",
       "  0.27381537121215616\n",
       " -0.19422906710572047\n",
       " -0.33936602980781916\n",
       " -0.84387792144707\n",
       " -0.8889357468973064\n",
       "  ⋮\n",
       " -0.7339610029444202\n",
       "  0.45939803668120377\n",
       "  1.7061863874321828\n",
       "  0.6784427697934589\n",
       "  0.28717953880710856\n",
       "  1.0681555054109295\n",
       " -0.3068768981211787\n",
       " -1.9202140874350073\n",
       "  1.6696020873668111\n",
       " -0.2135576214062456\n",
       " -0.16371133936712523\n",
       " -0.9029858060964956"
      ]
     },
     "metadata": {},
     "execution_count": 2
    }
   ],
   "metadata": {}
  },
  {
   "cell_type": "code",
   "execution_count": 3,
   "source": [
    "using StatsPlots\n",
    "density(x)"
   ],
   "outputs": [
    {
     "output_type": "execute_result",
     "data": {
      "image/svg+xml": "<?xml version=\"1.0\" encoding=\"utf-8\"?>\n<svg xmlns=\"http://www.w3.org/2000/svg\" xmlns:xlink=\"http://www.w3.org/1999/xlink\" width=\"600\" height=\"400\" viewBox=\"0 0 2400 1600\">\n<defs>\n  <clipPath id=\"clip820\">\n    <rect x=\"0\" y=\"0\" width=\"2400\" height=\"1600\"/>\n  </clipPath>\n</defs>\n<path clip-path=\"url(#clip820)\" d=\"\nM0 1600 L2400 1600 L2400 0 L0 0  Z\n  \" fill=\"#ffffff\" fill-rule=\"evenodd\" fill-opacity=\"1\"/>\n<defs>\n  <clipPath id=\"clip821\">\n    <rect x=\"480\" y=\"0\" width=\"1681\" height=\"1600\"/>\n  </clipPath>\n</defs>\n<path clip-path=\"url(#clip820)\" d=\"\nM156.112 1486.45 L2352.76 1486.45 L2352.76 47.2441 L156.112 47.2441  Z\n  \" fill=\"#ffffff\" fill-rule=\"evenodd\" fill-opacity=\"1\"/>\n<defs>\n  <clipPath id=\"clip822\">\n    <rect x=\"156\" y=\"47\" width=\"2198\" height=\"1440\"/>\n  </clipPath>\n</defs>\n<polyline clip-path=\"url(#clip822)\" style=\"stroke:#000000; stroke-linecap:butt; stroke-linejoin:round; stroke-width:2; stroke-opacity:0.1; fill:none\" points=\"\n  390.428,1486.45 390.428,47.2441 \n  \"/>\n<polyline clip-path=\"url(#clip822)\" style=\"stroke:#000000; stroke-linecap:butt; stroke-linejoin:round; stroke-width:2; stroke-opacity:0.1; fill:none\" points=\"\n  843.36,1486.45 843.36,47.2441 \n  \"/>\n<polyline clip-path=\"url(#clip822)\" style=\"stroke:#000000; stroke-linecap:butt; stroke-linejoin:round; stroke-width:2; stroke-opacity:0.1; fill:none\" points=\"\n  1296.29,1486.45 1296.29,47.2441 \n  \"/>\n<polyline clip-path=\"url(#clip822)\" style=\"stroke:#000000; stroke-linecap:butt; stroke-linejoin:round; stroke-width:2; stroke-opacity:0.1; fill:none\" points=\"\n  1749.23,1486.45 1749.23,47.2441 \n  \"/>\n<polyline clip-path=\"url(#clip822)\" style=\"stroke:#000000; stroke-linecap:butt; stroke-linejoin:round; stroke-width:2; stroke-opacity:0.1; fill:none\" points=\"\n  2202.16,1486.45 2202.16,47.2441 \n  \"/>\n<polyline clip-path=\"url(#clip820)\" style=\"stroke:#000000; stroke-linecap:butt; stroke-linejoin:round; stroke-width:4; stroke-opacity:1; fill:none\" points=\"\n  156.112,1486.45 2352.76,1486.45 \n  \"/>\n<polyline clip-path=\"url(#clip820)\" style=\"stroke:#000000; stroke-linecap:butt; stroke-linejoin:round; stroke-width:4; stroke-opacity:1; fill:none\" points=\"\n  390.428,1486.45 390.428,1467.55 \n  \"/>\n<polyline clip-path=\"url(#clip820)\" style=\"stroke:#000000; stroke-linecap:butt; stroke-linejoin:round; stroke-width:4; stroke-opacity:1; fill:none\" points=\"\n  843.36,1486.45 843.36,1467.55 \n  \"/>\n<polyline clip-path=\"url(#clip820)\" style=\"stroke:#000000; stroke-linecap:butt; stroke-linejoin:round; stroke-width:4; stroke-opacity:1; fill:none\" points=\"\n  1296.29,1486.45 1296.29,1467.55 \n  \"/>\n<polyline clip-path=\"url(#clip820)\" style=\"stroke:#000000; stroke-linecap:butt; stroke-linejoin:round; stroke-width:4; stroke-opacity:1; fill:none\" points=\"\n  1749.23,1486.45 1749.23,1467.55 \n  \"/>\n<polyline clip-path=\"url(#clip820)\" style=\"stroke:#000000; stroke-linecap:butt; stroke-linejoin:round; stroke-width:4; stroke-opacity:1; fill:none\" points=\"\n  2202.16,1486.45 2202.16,1467.55 \n  \"/>\n<path clip-path=\"url(#clip820)\" d=\"M359.328 1530.29 L389.004 1530.29 L389.004 1534.23 L359.328 1534.23 L359.328 1530.29 Z\" fill=\"#000000\" fill-rule=\"evenodd\" fill-opacity=\"1\" /><path clip-path=\"url(#clip820)\" d=\"M411.944 1516.63 L400.138 1535.08 L411.944 1535.08 L411.944 1516.63 M410.717 1512.56 L416.597 1512.56 L416.597 1535.08 L421.527 1535.08 L421.527 1538.97 L416.597 1538.97 L416.597 1547.12 L411.944 1547.12 L411.944 1538.97 L396.342 1538.97 L396.342 1534.46 L410.717 1512.56 Z\" fill=\"#000000\" fill-rule=\"evenodd\" fill-opacity=\"1\" /><path clip-path=\"url(#clip820)\" d=\"M813.303 1530.29 L842.978 1530.29 L842.978 1534.23 L813.303 1534.23 L813.303 1530.29 Z\" fill=\"#000000\" fill-rule=\"evenodd\" fill-opacity=\"1\" /><path clip-path=\"url(#clip820)\" d=\"M857.099 1543.18 L873.418 1543.18 L873.418 1547.12 L851.474 1547.12 L851.474 1543.18 Q854.136 1540.43 858.719 1535.8 Q863.325 1531.15 864.506 1529.81 Q866.751 1527.28 867.631 1525.55 Q868.534 1523.79 868.534 1522.1 Q868.534 1519.34 866.589 1517.61 Q864.668 1515.87 861.566 1515.87 Q859.367 1515.87 856.913 1516.63 Q854.483 1517.4 851.705 1518.95 L851.705 1514.23 Q854.529 1513.09 856.983 1512.51 Q859.437 1511.93 861.474 1511.93 Q866.844 1511.93 870.038 1514.62 Q873.233 1517.31 873.233 1521.8 Q873.233 1523.93 872.423 1525.85 Q871.636 1527.74 869.529 1530.34 Q868.95 1531.01 865.849 1534.23 Q862.747 1537.42 857.099 1543.18 Z\" fill=\"#000000\" fill-rule=\"evenodd\" fill-opacity=\"1\" /><path clip-path=\"url(#clip820)\" d=\"M1296.29 1515.64 Q1292.68 1515.64 1290.85 1519.2 Q1289.05 1522.75 1289.05 1529.87 Q1289.05 1536.98 1290.85 1540.55 Q1292.68 1544.09 1296.29 1544.09 Q1299.93 1544.09 1301.73 1540.55 Q1303.56 1536.98 1303.56 1529.87 Q1303.56 1522.75 1301.73 1519.2 Q1299.93 1515.64 1296.29 1515.64 M1296.29 1511.93 Q1302.1 1511.93 1305.16 1516.54 Q1308.24 1521.12 1308.24 1529.87 Q1308.24 1538.6 1305.16 1543.21 Q1302.1 1547.79 1296.29 1547.79 Q1290.48 1547.79 1287.4 1543.21 Q1284.35 1538.6 1284.35 1529.87 Q1284.35 1521.12 1287.4 1516.54 Q1290.48 1511.93 1296.29 1511.93 Z\" fill=\"#000000\" fill-rule=\"evenodd\" fill-opacity=\"1\" /><path clip-path=\"url(#clip820)\" d=\"M1743.88 1543.18 L1760.2 1543.18 L1760.2 1547.12 L1738.25 1547.12 L1738.25 1543.18 Q1740.92 1540.43 1745.5 1535.8 Q1750.11 1531.15 1751.29 1529.81 Q1753.53 1527.28 1754.41 1525.55 Q1755.31 1523.79 1755.31 1522.1 Q1755.31 1519.34 1753.37 1517.61 Q1751.45 1515.87 1748.35 1515.87 Q1746.15 1515.87 1743.69 1516.63 Q1741.26 1517.4 1738.48 1518.95 L1738.48 1514.23 Q1741.31 1513.09 1743.76 1512.51 Q1746.22 1511.93 1748.25 1511.93 Q1753.62 1511.93 1756.82 1514.62 Q1760.01 1517.31 1760.01 1521.8 Q1760.01 1523.93 1759.2 1525.85 Q1758.42 1527.74 1756.31 1530.34 Q1755.73 1531.01 1752.63 1534.23 Q1749.53 1537.42 1743.88 1543.18 Z\" fill=\"#000000\" fill-rule=\"evenodd\" fill-opacity=\"1\" /><path clip-path=\"url(#clip820)\" d=\"M2205.17 1516.63 L2193.36 1535.08 L2205.17 1535.08 L2205.17 1516.63 M2203.94 1512.56 L2209.82 1512.56 L2209.82 1535.08 L2214.75 1535.08 L2214.75 1538.97 L2209.82 1538.97 L2209.82 1547.12 L2205.17 1547.12 L2205.17 1538.97 L2189.57 1538.97 L2189.57 1534.46 L2203.94 1512.56 Z\" fill=\"#000000\" fill-rule=\"evenodd\" fill-opacity=\"1\" /><polyline clip-path=\"url(#clip822)\" style=\"stroke:#000000; stroke-linecap:butt; stroke-linejoin:round; stroke-width:2; stroke-opacity:0.1; fill:none\" points=\"\n  156.112,1445.74 2352.76,1445.74 \n  \"/>\n<polyline clip-path=\"url(#clip822)\" style=\"stroke:#000000; stroke-linecap:butt; stroke-linejoin:round; stroke-width:2; stroke-opacity:0.1; fill:none\" points=\"\n  156.112,1075.05 2352.76,1075.05 \n  \"/>\n<polyline clip-path=\"url(#clip822)\" style=\"stroke:#000000; stroke-linecap:butt; stroke-linejoin:round; stroke-width:2; stroke-opacity:0.1; fill:none\" points=\"\n  156.112,704.37 2352.76,704.37 \n  \"/>\n<polyline clip-path=\"url(#clip822)\" style=\"stroke:#000000; stroke-linecap:butt; stroke-linejoin:round; stroke-width:2; stroke-opacity:0.1; fill:none\" points=\"\n  156.112,333.685 2352.76,333.685 \n  \"/>\n<polyline clip-path=\"url(#clip820)\" style=\"stroke:#000000; stroke-linecap:butt; stroke-linejoin:round; stroke-width:4; stroke-opacity:1; fill:none\" points=\"\n  156.112,1486.45 156.112,47.2441 \n  \"/>\n<polyline clip-path=\"url(#clip820)\" style=\"stroke:#000000; stroke-linecap:butt; stroke-linejoin:round; stroke-width:4; stroke-opacity:1; fill:none\" points=\"\n  156.112,1445.74 175.01,1445.74 \n  \"/>\n<polyline clip-path=\"url(#clip820)\" style=\"stroke:#000000; stroke-linecap:butt; stroke-linejoin:round; stroke-width:4; stroke-opacity:1; fill:none\" points=\"\n  156.112,1075.05 175.01,1075.05 \n  \"/>\n<polyline clip-path=\"url(#clip820)\" style=\"stroke:#000000; stroke-linecap:butt; stroke-linejoin:round; stroke-width:4; stroke-opacity:1; fill:none\" points=\"\n  156.112,704.37 175.01,704.37 \n  \"/>\n<polyline clip-path=\"url(#clip820)\" style=\"stroke:#000000; stroke-linecap:butt; stroke-linejoin:round; stroke-width:4; stroke-opacity:1; fill:none\" points=\"\n  156.112,333.685 175.01,333.685 \n  \"/>\n<path clip-path=\"url(#clip820)\" d=\"M62.9365 1431.54 Q59.3254 1431.54 57.4967 1435.1 Q55.6912 1438.64 55.6912 1445.77 Q55.6912 1452.88 57.4967 1456.45 Q59.3254 1459.99 62.9365 1459.99 Q66.5707 1459.99 68.3763 1456.45 Q70.205 1452.88 70.205 1445.77 Q70.205 1438.64 68.3763 1435.1 Q66.5707 1431.54 62.9365 1431.54 M62.9365 1427.83 Q68.7467 1427.83 71.8022 1432.44 Q74.8809 1437.02 74.8809 1445.77 Q74.8809 1454.5 71.8022 1459.11 Q68.7467 1463.69 62.9365 1463.69 Q57.1264 1463.69 54.0477 1459.11 Q50.9921 1454.5 50.9921 1445.77 Q50.9921 1437.02 54.0477 1432.44 Q57.1264 1427.83 62.9365 1427.83 Z\" fill=\"#000000\" fill-rule=\"evenodd\" fill-opacity=\"1\" /><path clip-path=\"url(#clip820)\" d=\"M83.0984 1457.14 L87.9827 1457.14 L87.9827 1463.02 L83.0984 1463.02 L83.0984 1457.14 Z\" fill=\"#000000\" fill-rule=\"evenodd\" fill-opacity=\"1\" /><path clip-path=\"url(#clip820)\" d=\"M108.168 1431.54 Q104.557 1431.54 102.728 1435.1 Q100.922 1438.64 100.922 1445.77 Q100.922 1452.88 102.728 1456.45 Q104.557 1459.99 108.168 1459.99 Q111.802 1459.99 113.608 1456.45 Q115.436 1452.88 115.436 1445.77 Q115.436 1438.64 113.608 1435.1 Q111.802 1431.54 108.168 1431.54 M108.168 1427.83 Q113.978 1427.83 117.033 1432.44 Q120.112 1437.02 120.112 1445.77 Q120.112 1454.5 117.033 1459.11 Q113.978 1463.69 108.168 1463.69 Q102.358 1463.69 99.2789 1459.11 Q96.2234 1454.5 96.2234 1445.77 Q96.2234 1437.02 99.2789 1432.44 Q102.358 1427.83 108.168 1427.83 Z\" fill=\"#000000\" fill-rule=\"evenodd\" fill-opacity=\"1\" /><path clip-path=\"url(#clip820)\" d=\"M64.1634 1060.85 Q60.5523 1060.85 58.7236 1064.42 Q56.918 1067.96 56.918 1075.09 Q56.918 1082.2 58.7236 1085.76 Q60.5523 1089.3 64.1634 1089.3 Q67.7976 1089.3 69.6031 1085.76 Q71.4318 1082.2 71.4318 1075.09 Q71.4318 1067.96 69.6031 1064.42 Q67.7976 1060.85 64.1634 1060.85 M64.1634 1057.15 Q69.9735 1057.15 73.029 1061.76 Q76.1077 1066.34 76.1077 1075.09 Q76.1077 1083.82 73.029 1088.42 Q69.9735 1093.01 64.1634 1093.01 Q58.3532 1093.01 55.2745 1088.42 Q52.219 1083.82 52.219 1075.09 Q52.219 1066.34 55.2745 1061.76 Q58.3532 1057.15 64.1634 1057.15 Z\" fill=\"#000000\" fill-rule=\"evenodd\" fill-opacity=\"1\" /><path clip-path=\"url(#clip820)\" d=\"M84.3253 1086.46 L89.2095 1086.46 L89.2095 1092.33 L84.3253 1092.33 L84.3253 1086.46 Z\" fill=\"#000000\" fill-rule=\"evenodd\" fill-opacity=\"1\" /><path clip-path=\"url(#clip820)\" d=\"M100.205 1088.4 L107.844 1088.4 L107.844 1062.03 L99.5335 1063.7 L99.5335 1059.44 L107.797 1057.77 L112.473 1057.77 L112.473 1088.4 L120.112 1088.4 L120.112 1092.33 L100.205 1092.33 L100.205 1088.4 Z\" fill=\"#000000\" fill-rule=\"evenodd\" fill-opacity=\"1\" /><path clip-path=\"url(#clip820)\" d=\"M64.5337 690.169 Q60.9226 690.169 59.0939 693.733 Q57.2884 697.275 57.2884 704.405 Q57.2884 711.511 59.0939 715.076 Q60.9226 718.617 64.5337 718.617 Q68.168 718.617 69.9735 715.076 Q71.8022 711.511 71.8022 704.405 Q71.8022 697.275 69.9735 693.733 Q68.168 690.169 64.5337 690.169 M64.5337 686.465 Q70.3439 686.465 73.3994 691.071 Q76.4781 695.655 76.4781 704.405 Q76.4781 713.131 73.3994 717.738 Q70.3439 722.321 64.5337 722.321 Q58.7236 722.321 55.6449 717.738 Q52.5893 713.131 52.5893 704.405 Q52.5893 695.655 55.6449 691.071 Q58.7236 686.465 64.5337 686.465 Z\" fill=\"#000000\" fill-rule=\"evenodd\" fill-opacity=\"1\" /><path clip-path=\"url(#clip820)\" d=\"M84.6956 715.77 L89.5799 715.77 L89.5799 721.65 L84.6956 721.65 L84.6956 715.77 Z\" fill=\"#000000\" fill-rule=\"evenodd\" fill-opacity=\"1\" /><path clip-path=\"url(#clip820)\" d=\"M103.793 717.715 L120.112 717.715 L120.112 721.65 L98.1678 721.65 L98.1678 717.715 Q100.83 714.96 105.413 710.33 Q110.02 705.678 111.2 704.335 Q113.445 701.812 114.325 700.076 Q115.228 698.317 115.228 696.627 Q115.228 693.872 113.283 692.136 Q111.362 690.4 108.26 690.4 Q106.061 690.4 103.608 691.164 Q101.177 691.928 98.3993 693.479 L98.3993 688.757 Q101.223 687.622 103.677 687.044 Q106.131 686.465 108.168 686.465 Q113.538 686.465 116.733 689.15 Q119.927 691.835 119.927 696.326 Q119.927 698.456 119.117 700.377 Q118.33 702.275 116.223 704.868 Q115.645 705.539 112.543 708.756 Q109.441 711.951 103.793 717.715 Z\" fill=\"#000000\" fill-rule=\"evenodd\" fill-opacity=\"1\" /><path clip-path=\"url(#clip820)\" d=\"M63.5847 319.484 Q59.9736 319.484 58.1449 323.048 Q56.3393 326.59 56.3393 333.72 Q56.3393 340.826 58.1449 344.391 Q59.9736 347.932 63.5847 347.932 Q67.2189 347.932 69.0244 344.391 Q70.8531 340.826 70.8531 333.72 Q70.8531 326.59 69.0244 323.048 Q67.2189 319.484 63.5847 319.484 M63.5847 315.78 Q69.3948 315.78 72.4503 320.386 Q75.529 324.97 75.529 333.72 Q75.529 342.446 72.4503 347.053 Q69.3948 351.636 63.5847 351.636 Q57.7745 351.636 54.6958 347.053 Q51.6403 342.446 51.6403 333.72 Q51.6403 324.97 54.6958 320.386 Q57.7745 315.78 63.5847 315.78 Z\" fill=\"#000000\" fill-rule=\"evenodd\" fill-opacity=\"1\" /><path clip-path=\"url(#clip820)\" d=\"M83.7466 345.085 L88.6308 345.085 L88.6308 350.965 L83.7466 350.965 L83.7466 345.085 Z\" fill=\"#000000\" fill-rule=\"evenodd\" fill-opacity=\"1\" /><path clip-path=\"url(#clip820)\" d=\"M112.983 332.331 Q116.339 333.048 118.214 335.317 Q120.112 337.585 120.112 340.919 Q120.112 346.034 116.594 348.835 Q113.075 351.636 106.594 351.636 Q104.418 351.636 102.103 351.196 Q99.8113 350.78 97.3576 349.923 L97.3576 345.409 Q99.3021 346.544 101.617 347.122 Q103.932 347.701 106.455 347.701 Q110.853 347.701 113.145 345.965 Q115.459 344.229 115.459 340.919 Q115.459 337.863 113.307 336.15 Q111.177 334.414 107.358 334.414 L103.33 334.414 L103.33 330.571 L107.543 330.571 Q110.992 330.571 112.82 329.206 Q114.649 327.817 114.649 325.224 Q114.649 322.562 112.751 321.15 Q110.876 319.715 107.358 319.715 Q105.436 319.715 103.237 320.132 Q101.038 320.548 98.3993 321.428 L98.3993 317.261 Q101.061 316.521 103.376 316.15 Q105.714 315.78 107.774 315.78 Q113.098 315.78 116.2 318.21 Q119.302 320.618 119.302 324.738 Q119.302 327.609 117.658 329.599 Q116.015 331.567 112.983 332.331 Z\" fill=\"#000000\" fill-rule=\"evenodd\" fill-opacity=\"1\" /><polyline clip-path=\"url(#clip822)\" style=\"stroke:#009af9; stroke-linecap:butt; stroke-linejoin:round; stroke-width:4; stroke-opacity:1; fill:none\" points=\"\n  218.281,1445.72 228.695,1445.71 239.108,1445.7 249.522,1445.68 259.936,1445.65 270.349,1445.61 280.763,1445.55 291.176,1445.46 301.59,1445.33 312.004,1445.15 \n  322.417,1444.9 332.831,1444.57 343.244,1444.12 353.658,1443.53 364.072,1442.76 374.485,1441.77 384.899,1440.51 395.312,1438.94 405.726,1437 416.14,1434.65 \n  426.553,1431.82 436.967,1428.49 447.38,1424.61 457.794,1420.17 468.208,1415.17 478.621,1409.62 489.035,1403.57 499.448,1397.09 509.862,1390.28 520.276,1383.26 \n  530.689,1376.19 541.103,1369.23 551.516,1362.57 561.93,1356.38 572.344,1350.85 582.757,1346.13 593.171,1342.37 603.584,1339.67 613.998,1338.08 624.412,1337.62 \n  634.825,1338.23 645.239,1339.82 655.652,1342.26 666.066,1345.33 676.479,1348.83 686.893,1352.5 697.307,1356.08 707.72,1359.28 718.134,1361.87 728.547,1363.6 \n  738.961,1364.27 749.375,1363.7 759.788,1361.77 770.202,1358.39 780.615,1353.52 791.029,1347.15 801.443,1339.28 811.856,1329.96 822.27,1319.22 832.683,1307.1 \n  843.097,1293.6 853.511,1278.72 863.924,1262.4 874.338,1244.54 884.751,1225.01 895.165,1203.63 905.579,1180.2 915.992,1154.49 926.406,1126.28 936.819,1095.38 \n  947.233,1061.62 957.647,1024.9 968.06,985.223 978.474,942.658 988.887,897.394 999.301,849.724 1009.71,800.037 1020.13,748.815 1030.54,696.603 1040.96,643.992 \n  1051.37,591.59 1061.78,539.994 1072.2,489.763 1082.61,441.405 1093.02,395.351 1103.44,351.955 1113.85,311.493 1124.26,274.164 1134.68,240.103 1145.09,209.4 \n  1155.5,182.106 1165.92,158.252 1176.33,137.857 1186.75,120.936 1197.16,107.496 1207.57,97.5367 1217.99,91.0435 1228.4,87.9763 1238.81,88.2627 1249.23,91.7915 \n  1259.64,98.4089 1270.05,107.92 1280.47,120.091 1290.88,134.662 1301.3,151.353 1311.71,169.879 1322.12,189.956 1332.54,211.317 1342.95,233.711 1353.36,256.91 \n  1363.78,280.708 1374.19,304.918 1384.6,329.37 1395.02,353.905 1405.43,378.373 1415.84,402.634 1426.26,426.557 1436.67,450.027 1447.09,472.947 1457.5,495.246 \n  1467.91,516.887 1478.33,537.869 1488.74,558.235 1499.15,578.069 1509.57,597.496 1519.98,616.677 1530.39,635.796 1540.81,655.058 1551.22,674.667 1561.64,694.821 \n  1572.05,715.697 1582.46,737.439 1592.88,760.146 1603.29,783.869 1613.7,808.602 1624.12,834.284 1634.53,860.794 1644.94,887.962 1655.36,915.57 1665.77,943.363 \n  1676.18,971.065 1686.6,998.383 1697.01,1025.03 1707.43,1050.73 1717.84,1075.25 1728.25,1098.37 1738.67,1119.95 1749.08,1139.87 1759.49,1158.12 1769.91,1174.69 \n  1780.32,1189.68 1790.73,1203.19 1801.15,1215.39 1811.56,1226.47 1821.97,1236.65 1832.39,1246.12 1842.8,1255.11 1853.22,1263.8 1863.63,1272.36 1874.04,1280.93 \n  1884.46,1289.6 1894.87,1298.45 1905.28,1307.49 1915.7,1316.72 1926.11,1326.1 1936.52,1335.58 1946.94,1345.07 1957.35,1354.47 1967.77,1363.68 1978.18,1372.61 \n  1988.59,1381.15 1999.01,1389.23 2009.42,1396.78 2019.83,1403.74 2030.25,1410.07 2040.66,1415.76 2051.07,1420.81 2061.49,1425.22 2071.9,1429.04 2082.31,1432.3 \n  2092.73,1435.04 2103.14,1437.32 2113.56,1439.19 2123.97,1440.7 2134.38,1441.91 2144.8,1442.86 2155.21,1443.6 2165.62,1444.17 2176.04,1444.6 2186.45,1444.92 \n  2196.86,1445.16 2207.28,1445.34 2217.69,1445.46 2228.11,1445.55 2238.52,1445.61 2248.93,1445.65 2259.35,1445.68 2269.76,1445.7 2280.17,1445.71 2290.59,1445.72 \n  \n  \"/>\n<path clip-path=\"url(#clip820)\" d=\"\nM1983.03 198.898 L2279.53 198.898 L2279.53 95.2176 L1983.03 95.2176  Z\n  \" fill=\"#ffffff\" fill-rule=\"evenodd\" fill-opacity=\"1\"/>\n<polyline clip-path=\"url(#clip820)\" style=\"stroke:#000000; stroke-linecap:butt; stroke-linejoin:round; stroke-width:4; stroke-opacity:1; fill:none\" points=\"\n  1983.03,198.898 2279.53,198.898 2279.53,95.2176 1983.03,95.2176 1983.03,198.898 \n  \"/>\n<polyline clip-path=\"url(#clip820)\" style=\"stroke:#009af9; stroke-linecap:butt; stroke-linejoin:round; stroke-width:4; stroke-opacity:1; fill:none\" points=\"\n  2007.44,147.058 2153.88,147.058 \n  \"/>\n<path clip-path=\"url(#clip820)\" d=\"M2192.13 166.745 Q2190.33 171.375 2188.61 172.787 Q2186.9 174.199 2184.03 174.199 L2180.63 174.199 L2180.63 170.634 L2183.13 170.634 Q2184.89 170.634 2185.86 169.8 Q2186.83 168.967 2188.01 165.865 L2188.78 163.921 L2178.29 138.412 L2182.8 138.412 L2190.91 158.689 L2199.01 138.412 L2203.52 138.412 L2192.13 166.745 Z\" fill=\"#000000\" fill-rule=\"evenodd\" fill-opacity=\"1\" /><path clip-path=\"url(#clip820)\" d=\"M2210.81 160.402 L2218.45 160.402 L2218.45 134.037 L2210.14 135.703 L2210.14 131.444 L2218.41 129.778 L2223.08 129.778 L2223.08 160.402 L2230.72 160.402 L2230.72 164.338 L2210.81 164.338 L2210.81 160.402 Z\" fill=\"#000000\" fill-rule=\"evenodd\" fill-opacity=\"1\" /></svg>\n"
     },
     "metadata": {},
     "execution_count": 3
    }
   ],
   "metadata": {}
  },
  {
   "cell_type": "markdown",
   "source": [
    "## Generate Multivariate Normal Data"
   ],
   "metadata": {}
  },
  {
   "cell_type": "code",
   "execution_count": 4,
   "source": [
    "d = MvNormal([1 0.5\n",
    "              0.5 1])"
   ],
   "outputs": [
    {
     "output_type": "execute_result",
     "data": {
      "text/plain": [
       "ZeroMeanFullNormal(\n",
       "dim: 2\n",
       "μ: Zeros(2)\n",
       "Σ: [1.0 0.5; 0.5 1.0]\n",
       ")\n"
      ]
     },
     "metadata": {},
     "execution_count": 4
    }
   ],
   "metadata": {}
  },
  {
   "cell_type": "code",
   "execution_count": 5,
   "source": [
    "x = rand(d, 1000)"
   ],
   "outputs": [
    {
     "output_type": "execute_result",
     "data": {
      "text/plain": [
       "2×1000 Matrix{Float64}:\n",
       "  0.376264  1.33585  -1.45789    0.895878  …  0.80866   -0.808233   0.52911\n",
       " -0.162844  2.05423  -0.035615  -0.151293     0.412493   0.387994  -0.126699"
      ]
     },
     "metadata": {},
     "execution_count": 5
    }
   ],
   "metadata": {}
  },
  {
   "cell_type": "code",
   "execution_count": 6,
   "source": [
    "# Covariance matrix\n",
    "using LinearAlgebra\n",
    "cov(x')"
   ],
   "outputs": [
    {
     "output_type": "execute_result",
     "data": {
      "text/plain": [
       "2×2 Matrix{Float64}:\n",
       " 1.00907   0.523942\n",
       " 0.523942  0.983592"
      ]
     },
     "metadata": {},
     "execution_count": 6
    }
   ],
   "metadata": {}
  },
  {
   "cell_type": "markdown",
   "source": [
    "The above shows how Julia can simulate multivariate normal data. Now, generate some cfa data"
   ],
   "metadata": {}
  },
  {
   "cell_type": "code",
   "execution_count": 7,
   "source": [
    "Λ = [.7\n",
    "     .7\n",
    "     .7\n",
    "     .7]\n",
    "Σ = Λ*Λ' + Diagonal(ones(4) * .51)"
   ],
   "outputs": [
    {
     "output_type": "execute_result",
     "data": {
      "text/plain": [
       "4×4 Matrix{Float64}:\n",
       " 1.0   0.49  0.49  0.49\n",
       " 0.49  1.0   0.49  0.49\n",
       " 0.49  0.49  1.0   0.49\n",
       " 0.49  0.49  0.49  1.0"
      ]
     },
     "metadata": {},
     "execution_count": 7
    }
   ],
   "metadata": {}
  },
  {
   "cell_type": "code",
   "execution_count": 8,
   "source": [
    "# Simulate data\n",
    "y = rand(MvNormal(Σ), 100)\n",
    "Sy = cov(y')"
   ],
   "outputs": [
    {
     "output_type": "execute_result",
     "data": {
      "text/plain": [
       "4×4 Matrix{Float64}:\n",
       " 1.05629   0.483003  0.568291  0.527303\n",
       " 0.483003  0.996153  0.29745   0.478035\n",
       " 0.568291  0.29745   0.97717   0.398606\n",
       " 0.527303  0.478035  0.398606  1.06493"
      ]
     },
     "metadata": {},
     "execution_count": 8
    }
   ],
   "metadata": {}
  },
  {
   "cell_type": "code",
   "execution_count": 9,
   "source": [
    "function loglik(θ, S = Sy)\n",
    "    Λ = θ[1:4]\n",
    "    Θ = Diagonal(θ[5:8])\n",
    "    Σ = Λ*Λ' + Θ\n",
    "    logdet(Σ) + tr(Σ\\Sy)\n",
    "end"
   ],
   "outputs": [
    {
     "output_type": "execute_result",
     "data": {
      "text/plain": [
       "loglik (generic function with 2 methods)"
      ]
     },
     "metadata": {},
     "execution_count": 9
    }
   ],
   "metadata": {}
  },
  {
   "cell_type": "code",
   "execution_count": 10,
   "source": [
    "# Try the function\n",
    "loglik([.8, .7, .7, .7, .51, .51, .51, .51])"
   ],
   "outputs": [
    {
     "output_type": "execute_result",
     "data": {
      "text/plain": [
       "3.167285493401312"
      ]
     },
     "metadata": {},
     "execution_count": 10
    }
   ],
   "metadata": {}
  },
  {
   "cell_type": "code",
   "execution_count": 11,
   "source": [
    "# Find maximum likelihood estimates\n",
    "using Optim\n",
    "@time optimize(loglik, [ones(4) * 0.7; ones(4) * 0.51], LBFGS())"
   ],
   "outputs": [
    {
     "output_type": "stream",
     "name": "stdout",
     "text": [
      "  1.640046 seconds (1.87 M allocations: 112.521 MiB, 5.42% gc time, 99.60% compilation time)\n"
     ]
    },
    {
     "output_type": "execute_result",
     "data": {
      "text/plain": [
       " * Status: success\n",
       "\n",
       " * Candidate solution\n",
       "    Final objective value:     3.106121e+00\n",
       "\n",
       " * Found with\n",
       "    Algorithm:     L-BFGS\n",
       "\n",
       " * Convergence measures\n",
       "    |x - x'|               = 3.98e-07 ≰ 0.0e+00\n",
       "    |x - x'|/|x'|          = 4.70e-07 ≰ 0.0e+00\n",
       "    |f(x) - f(x')|         = 1.41e-13 ≰ 0.0e+00\n",
       "    |f(x) - f(x')|/|f(x')| = 4.53e-14 ≰ 0.0e+00\n",
       "    |g(x)|                 = 6.23e-10 ≤ 1.0e-08\n",
       "\n",
       " * Work counters\n",
       "    Seconds run:   1  (vs limit Inf)\n",
       "    Iterations:    12\n",
       "    f(x) calls:    33\n",
       "    ∇f(x) calls:   33\n"
      ]
     },
     "metadata": {},
     "execution_count": 11
    }
   ],
   "metadata": {}
  },
  {
   "cell_type": "code",
   "execution_count": 12,
   "source": [
    "# Use Hessians\n",
    "using NLSolversBase, ForwardDiff\n",
    "td = TwiceDifferentiable(loglik, [ones(4) * 0.7; ones(4) * 0.51]; autodiff = :forward)\n",
    "@time opt = optimize(td, [ones(4) * 0.7; ones(4) * 0.51])"
   ],
   "outputs": [
    {
     "output_type": "stream",
     "name": "stdout",
     "text": [
      " 18.238344 seconds (30.54 M allocations: 1.466 GiB, 3.70% gc time, 5.03% compilation time)\n"
     ]
    },
    {
     "output_type": "execute_result",
     "data": {
      "text/plain": [
       " * Status: success\n",
       "\n",
       " * Candidate solution\n",
       "    Final objective value:     3.106121e+00\n",
       "\n",
       " * Found with\n",
       "    Algorithm:     Newton's Method\n",
       "\n",
       " * Convergence measures\n",
       "    |x - x'|               = 2.04e-06 ≰ 0.0e+00\n",
       "    |x - x'|/|x'|          = 2.42e-06 ≰ 0.0e+00\n",
       "    |f(x) - f(x')|         = 1.12e-11 ≰ 0.0e+00\n",
       "    |f(x) - f(x')|/|f(x')| = 3.62e-12 ≰ 0.0e+00\n",
       "    |g(x)|                 = 8.54e-12 ≤ 1.0e-08\n",
       "\n",
       " * Work counters\n",
       "    Seconds run:   1  (vs limit Inf)\n",
       "    Iterations:    4\n",
       "    f(x) calls:    13\n",
       "    ∇f(x) calls:   13\n",
       "    ∇²f(x) calls:  4\n"
      ]
     },
     "metadata": {},
     "execution_count": 12
    }
   ],
   "metadata": {}
  },
  {
   "cell_type": "code",
   "execution_count": 13,
   "source": [
    "# Numerical Hessian\n",
    "Optim.minimizer(opt)\n",
    "@time ForwardDiff.hessian(loglik, Optim.minimizer(opt))"
   ],
   "outputs": [
    {
     "output_type": "stream",
     "name": "stdout",
     "text": [
      "  0.870712 seconds (2.04 M allocations: 128.827 MiB, 5.44% gc time, 99.96% compilation time)\n"
     ]
    },
    {
     "output_type": "execute_result",
     "data": {
      "text/plain": [
       "8×8 Matrix{Float64}:\n",
       "  3.20996   -0.510624   -0.721864  …  -0.169641   -0.169149   -0.264187\n",
       " -0.510624   2.24204    -0.158485      0.483349   -0.169213    0.0201712\n",
       " -0.721864  -0.158485    2.48657      -0.135797    0.660268   -0.113498\n",
       " -0.564463  -0.312079   -0.254539      0.0172733  -0.121108    0.563431\n",
       "  1.68921   -0.475787   -0.380722      0.227343    0.119383    0.391444\n",
       " -0.169641   0.483349   -0.135797  …   1.85791     0.111418   -0.0513068\n",
       " -0.169149  -0.169213    0.660268      0.111418    2.23284     0.0729978\n",
       " -0.264187   0.0201712  -0.113498     -0.0513068   0.0729978   1.85126"
      ]
     },
     "metadata": {},
     "execution_count": 13
    }
   ],
   "metadata": {}
  },
  {
   "cell_type": "code",
   "execution_count": 17,
   "source": [
    "# Using NLSolverBase\n",
    "@time hess = NLSolversBase.hessian!(td, Optim.minimizer(opt))"
   ],
   "outputs": [
    {
     "output_type": "stream",
     "name": "stdout",
     "text": [
      "  0.000012 seconds\n"
     ]
    },
    {
     "output_type": "execute_result",
     "data": {
      "text/plain": [
       "8×8 Matrix{Float64}:\n",
       "  3.20996   -0.510624   -0.721864  …  -0.169641   -0.169149   -0.264187\n",
       " -0.510624   2.24204    -0.158485      0.483349   -0.169213    0.0201712\n",
       " -0.721864  -0.158485    2.48657      -0.135797    0.660268   -0.113498\n",
       " -0.564463  -0.312079   -0.254539      0.0172733  -0.121108    0.563431\n",
       "  1.68921   -0.475787   -0.380722      0.227343    0.119383    0.391444\n",
       " -0.169641   0.483349   -0.135797  …   1.85791     0.111418   -0.0513068\n",
       " -0.169149  -0.169213    0.660268      0.111418    2.23284     0.0729978\n",
       " -0.264187   0.0201712  -0.113498     -0.0513068   0.0729978   1.85126"
      ]
     },
     "metadata": {},
     "execution_count": 17
    }
   ],
   "metadata": {}
  },
  {
   "cell_type": "code",
   "execution_count": 18,
   "source": [
    "# Asymptotic covariance matrix\n",
    "diag(inv(hess) * 2 / 100)"
   ],
   "outputs": [
    {
     "output_type": "execute_result",
     "data": {
      "text/plain": [
       "8-element Vector{Float64}:\n",
       " 0.010589204573074763\n",
       " 0.010906273403888831\n",
       " 0.009821304562058196\n",
       " 0.011702374569422469\n",
       " 0.012630958879887428\n",
       " 0.012224164343998667\n",
       " 0.009930610842226427\n",
       " 0.013573138910062699"
      ]
     },
     "metadata": {},
     "execution_count": 18
    }
   ],
   "metadata": {}
  }
 ],
 "metadata": {
  "orig_nbformat": 4,
  "language_info": {
   "file_extension": ".jl",
   "name": "julia",
   "mimetype": "application/julia",
   "version": "1.6.3"
  },
  "kernelspec": {
   "name": "julia-1.6",
   "display_name": "Julia 1.6.3",
   "language": "julia"
  }
 },
 "nbformat": 4,
 "nbformat_minor": 2
}