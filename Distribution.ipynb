{
 "cells": [
  {
   "cell_type": "code",
   "execution_count": 5,
   "metadata": {},
   "outputs": [
    {
     "data": {
      "text/plain": [
       "MersenneTwister(123)"
      ]
     },
     "execution_count": 5,
     "metadata": {},
     "output_type": "execute_result"
    }
   ],
   "source": [
    "using Random, Distributions\n",
    "Random.seed!(123) # Setting the seed"
   ]
  },
  {
   "cell_type": "code",
   "execution_count": 6,
   "metadata": {},
   "outputs": [
    {
     "data": {
      "text/plain": [
       "Normal{Float64}(μ=0.0, σ=1.0)"
      ]
     },
     "execution_count": 6,
     "metadata": {},
     "output_type": "execute_result"
    }
   ],
   "source": [
    "d = Normal()"
   ]
  },
  {
   "cell_type": "code",
   "execution_count": 8,
   "metadata": {},
   "outputs": [
    {
     "data": {
      "text/plain": [
       "100-element Vector{Float64}:\n",
       "  0.3762642112434747\n",
       " -0.4052717901213415\n",
       "  1.3358534818537375\n",
       "  1.6007607092420073\n",
       " -1.4578910204578128\n",
       "  0.8005890925757081\n",
       "  0.8958784545241614\n",
       " -0.6919335977533513\n",
       " -1.5087649275428612\n",
       " -0.7545227899053345\n",
       "  0.11562187195478167\n",
       "  0.24259508593797577\n",
       " -0.22321079656735474\n",
       "  ⋮\n",
       "  0.9117467045158482\n",
       "  0.013878949961429552\n",
       "  2.2959002737536816\n",
       "  0.9349818137328562\n",
       "  2.00605558298265\n",
       " -0.37929094747065545\n",
       "  0.20646021608420043\n",
       " -0.27602770597594495\n",
       "  1.1958637835744343\n",
       " -1.2965048878229888\n",
       "  0.5752786905523419\n",
       " -0.16600120902535137"
      ]
     },
     "execution_count": 8,
     "metadata": {},
     "output_type": "execute_result"
    }
   ],
   "source": [
    "x = rand(d, 100)"
   ]
  },
  {
   "cell_type": "code",
   "execution_count": 9,
   "metadata": {},
   "outputs": [
    {
     "data": {
      "text/plain": [
       "2-element Vector{Float64}:\n",
       " 0.0\n",
       " 1.6448536269514717"
      ]
     },
     "execution_count": 9,
     "metadata": {},
     "output_type": "execute_result"
    }
   ],
   "source": [
    "quantile.(Normal(), [0.5, 0.95])"
   ]
  },
  {
   "cell_type": "code",
   "execution_count": 10,
   "metadata": {},
   "outputs": [
    {
     "data": {
      "text/plain": [
       "100-element Vector{Float64}:\n",
       "  1.693178907216249\n",
       "  4.208627450674914\n",
       "  0.9506821453732217\n",
       "  0.7879292011312176\n",
       " -1.5823585858009745\n",
       "  0.324030452383961\n",
       "  0.6458150691586886\n",
       "  2.1499791741002863\n",
       " -1.7566748802058916\n",
       " -0.7357382451123526\n",
       "  0.19984859489905615\n",
       "  1.5901734097429703\n",
       "  2.635392284625336\n",
       "  ⋮\n",
       " -0.23609400505419154\n",
       " -1.170542047040143\n",
       "  1.8047999596879558\n",
       "  1.8507441125121873\n",
       " -1.378586143347738\n",
       "  1.2326195151410424\n",
       " -1.6899457374194733\n",
       "  1.8526788795845541\n",
       " -0.5672507636549333\n",
       "  2.2968653973571795\n",
       "  0.64689080653716\n",
       " -1.5584740727717548"
      ]
     },
     "execution_count": 10,
     "metadata": {},
     "output_type": "execute_result"
    }
   ],
   "source": [
    "rand(Normal(1, 2), 100)"
   ]
  },
  {
   "cell_type": "code",
   "execution_count": null,
   "metadata": {},
   "outputs": [],
   "source": []
  }
 ],
 "metadata": {
  "kernelspec": {
   "display_name": "Julia 1.6.2",
   "language": "julia",
   "name": "julia-1.6"
  },
  "language_info": {
   "file_extension": ".jl",
   "mimetype": "application/julia",
   "name": "julia",
   "version": "1.6.2"
  }
 },
 "nbformat": 4,
 "nbformat_minor": 4
}
