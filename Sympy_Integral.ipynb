{
 "cells": [
  {
   "cell_type": "code",
   "execution_count": 1,
   "id": "3c748318",
   "metadata": {},
   "outputs": [],
   "source": [
    "from sympy import *"
   ]
  },
  {
   "cell_type": "code",
   "execution_count": 13,
   "id": "474ee523",
   "metadata": {},
   "outputs": [],
   "source": [
    "t, k, e, b, c, x = symbols('t k e b c x')"
   ]
  },
  {
   "cell_type": "code",
   "execution_count": 14,
   "id": "744e2adf",
   "metadata": {},
   "outputs": [
    {
     "data": {
      "text/latex": [
       "$\\displaystyle - \\frac{\\begin{cases} - c \\left(- c x + 1\\right)^{- \\frac{1}{c}} & \\text{for}\\: 1 + \\frac{1}{c} \\neq 1 \\\\\\log{\\left(- c x + 1 \\right)} & \\text{otherwise} \\end{cases}}{c}$"
      ],
      "text/plain": [
       "-Piecewise((-c*(-c*x + 1)**(-1/c), Ne(1 + 1/c, 1)), (log(-c*x + 1), True))/c"
      ]
     },
     "execution_count": 14,
     "metadata": {},
     "output_type": "execute_result"
    }
   ],
   "source": [
    "integrate((1-c*x)**(-1-1/c),x)"
   ]
  },
  {
   "cell_type": "code",
   "execution_count": 15,
   "id": "b96c6d78",
   "metadata": {},
   "outputs": [],
   "source": [
    "pl = integrate((1-c*x)**(-1/c),x)"
   ]
  },
  {
   "cell_type": "code",
   "execution_count": 16,
   "id": "016f0ae7",
   "metadata": {},
   "outputs": [
    {
     "data": {
      "text/latex": [
       "$\\displaystyle \\begin{cases} - \\frac{\\left(- c x + 1\\right)^{\\frac{c - 1}{c}}}{c - 1} & \\text{for}\\: \\frac{1}{c} \\neq 1 \\\\- \\frac{\\log{\\left(- c x + 1 \\right)}}{c} & \\text{otherwise} \\end{cases}$"
      ],
      "text/plain": [
       "Piecewise((-(-c*x + 1)**((c - 1)/c)/(c - 1), Ne(1/c, 1)), (-log(-c*x + 1)/c, True))"
      ]
     },
     "execution_count": 16,
     "metadata": {},
     "output_type": "execute_result"
    }
   ],
   "source": [
    "pl.simplify()"
   ]
  },
  {
   "cell_type": "code",
   "execution_count": 18,
   "id": "04d31dcb",
   "metadata": {},
   "outputs": [
    {
     "data": {
      "text/latex": [
       "$\\displaystyle \\frac{\\begin{cases} - c \\left(c x + 1\\right)^{- \\frac{1}{c}} & \\text{for}\\: 1 + \\frac{1}{c} \\neq 1 \\\\\\log{\\left(c x + 1 \\right)} & \\text{otherwise} \\end{cases}}{c}$"
      ],
      "text/plain": [
       "Piecewise((-c*(c*x + 1)**(-1/c), Ne(1 + 1/c, 1)), (log(c*x + 1), True))/c"
      ]
     },
     "execution_count": 18,
     "metadata": {},
     "output_type": "execute_result"
    }
   ],
   "source": [
    "integrate((1+c*x)**(-1-1/c),x)"
   ]
  },
  {
   "cell_type": "code",
   "execution_count": 19,
   "id": "7799a4f6",
   "metadata": {},
   "outputs": [
    {
     "data": {
      "text/latex": [
       "$\\displaystyle \\frac{\\begin{cases} \\frac{\\left(c x + 1\\right)^{1 - \\frac{1}{c}}}{1 - \\frac{1}{c}} & \\text{for}\\: \\frac{1}{c} \\neq 1 \\\\\\log{\\left(c x + 1 \\right)} & \\text{otherwise} \\end{cases}}{c}$"
      ],
      "text/plain": [
       "Piecewise(((c*x + 1)**(1 - 1/c)/(1 - 1/c), Ne(1/c, 1)), (log(c*x + 1), True))/c"
      ]
     },
     "execution_count": 19,
     "metadata": {},
     "output_type": "execute_result"
    }
   ],
   "source": [
    "integrate((1+c*x)**(-1/c),x)"
   ]
  },
  {
   "cell_type": "code",
   "execution_count": 12,
   "id": "d0957627",
   "metadata": {},
   "outputs": [
    {
     "data": {
      "text/latex": [
       "$\\displaystyle \\begin{cases} \\frac{b x \\log{\\left(x + 1 \\right)} + b \\log{\\left(x + 1 \\right)} + b - e + k}{x + 1} & \\text{for}\\: c = -2 \\\\b x - b \\log{\\left(x + 1 \\right)} + e \\log{\\left(x + 1 \\right)} - k \\log{\\left(x + 1 \\right)} & \\text{for}\\: c = -1 \\\\\\frac{\\left(x + 1\\right)^{c} \\left(b c x^{2} + b c x + b x^{2} - b + c e x + c e - c k x - c k + 2 e x + 2 e - 2 k x - 2 k\\right)}{c^{2} + 3 c + 2} & \\text{otherwise} \\end{cases}$"
      ],
      "text/plain": [
       "Piecewise(((b*x*log(x + 1) + b*log(x + 1) + b - e + k)/(x + 1), Eq(c, -2)), (b*x - b*log(x + 1) + e*log(x + 1) - k*log(x + 1), Eq(c, -1)), ((x + 1)**c*(b*c*x**2 + b*c*x + b*x**2 - b + c*e*x + c*e - c*k*x - c*k + 2*e*x + 2*e - 2*k*x - 2*k)/(c**2 + 3*c + 2), True))"
      ]
     },
     "execution_count": 12,
     "metadata": {},
     "output_type": "execute_result"
    }
   ],
   "source": [
    "pu.simplify()"
   ]
  },
  {
   "cell_type": "code",
   "execution_count": null,
   "id": "c1896254",
   "metadata": {},
   "outputs": [],
   "source": []
  }
 ],
 "metadata": {
  "kernelspec": {
   "display_name": "py3mfm",
   "language": "python",
   "name": "py3mfm"
  },
  "language_info": {
   "codemirror_mode": {
    "name": "ipython",
    "version": 3
   },
   "file_extension": ".py",
   "mimetype": "text/x-python",
   "name": "python",
   "nbconvert_exporter": "python",
   "pygments_lexer": "ipython3",
   "version": "3.7.6"
  }
 },
 "nbformat": 4,
 "nbformat_minor": 5
}
