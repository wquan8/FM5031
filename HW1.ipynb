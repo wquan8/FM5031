{
 "cells": [
  {
   "cell_type": "markdown",
   "source": [
    "# <center>Quantitative Risk Management</center>\n",
    "\n",
    "## <center>Homework for Week 1</center>\n",
    "\n",
    "<center>John Dodson</center>\n",
    "\n",
    "<center>September 13, 2021</center>\n",
    "\n",
    "<center> Student: Wei Quan, Id: 5631113"
   ],
   "metadata": {}
  },
  {
   "cell_type": "markdown",
   "source": [
    "#### Problem\n",
    "\n",
    "1. In each of the following situations a certain notion of capital discussed in QRM §2.1.3 is most relevantfor the decision maker. Explain which notion of capital that is.(2 points)\n",
    "\n",
    "* (a) a financial analyst who uses balance sheet data to value a firm\n",
    "\n",
    "> Equity Capital. Equity Capital can be read from balance sheet and it's a measure of the value of the company to shareholders.\n",
    "\n",
    "* (b) chief risk officer of an insurance company who has to decide on the appropriate level of rein-surance\n",
    "\n",
    "> Economic Capital. Economic capital is an estimate of the amount of capital that a financial institution needs in order to control the probability of becoming insolvent, typically over a one-year horizon. \n",
    "\n",
    "* (c) a regulator who has to decide on shutting down a bank with many bad loans on its book\n",
    "\n",
    "> Regulatory Capital. Regularoty capital is the amount of capital that a company should have according to regulatory rules.\n"
   ],
   "metadata": {}
  },
  {
   "cell_type": "markdown",
   "source": [
    "2. Let L be a random loss and $h : \\mathbf{R} \\rightarrow \\mathbf{R}$ a continuous and strictly increasing function.  Show that (**3 points**)\n",
    "\n",
    "$$VaR_\\alpha(h(L)) = h(VaR_\\alpha(L)) \\; \\forall \\alpha \\in (0,1)$$\n",
    "\n",
    "Proof:\n",
    "\n",
    "By $VaR$ definition, $P(L \\le VaR_\\alpha(L)) = \\alpha$\n",
    "\n",
    "If h is a continuous and strictly increasing function, then \n",
    "\n",
    "$$P(h(L) \\le VaR_\\alpha(h(L))) = \\alpha$$\n",
    "\n",
    "$h^{-1}$ is continous and strictly increasing as well, apply it to both sides of the equation inside P\n",
    "\n",
    "$$P(L \\le h^{-1}( VaR_\\alpha( h(L) ) ) ) = \\alpha$$\n",
    "\n",
    "Comparing this with the initial equation on $VaR$ definition,\n",
    "\n",
    "$$VaR_\\alpha(L)) = h^{-1}( VaR_\\alpha( h(L) ) )$$\n",
    "\n",
    "Apply h on both sides,\n",
    "\n",
    "$$h(VaR_\\alpha(L))) = VaR_\\alpha( h(L) ) $$"
   ],
   "metadata": {}
  },
  {
   "cell_type": "markdown",
   "source": [
    "\n",
    "3. Consider two stocks whose log-returns are bivariate normal with annualized volatilities $\\sigma_1 = 0.20 $ and $\\sigma_2= 0.25$ and correlation $\\rho = 0.4$. Assume that the expected returns are zero and that one yearconsists of 252 trading days. Consider a portfolio with current value $V_t = 1000,000$. (in USD) and portfolio weights $w1= 0.7$ and $w2= 0.3$.  Furthermore, denote by $L^\\Delta_{t+1}$ the linearized loss (usinglog-prices of the stocks as risk factors). Compute the daily $VaR_{0.99}(L^\\Delta_{t+1})$ and $ES_{0.99}(L^{\\Delta}_{t+1})$ for theportfolio. How does the answer change if $ \\rho = 0.6 $"
   ],
   "metadata": {}
  },
  {
   "cell_type": "code",
   "execution_count": 1,
   "source": [
    "using Random, Distributions, Printf\n",
    "Random.seed!(123) # Setting the seed\n",
    "\n",
    "s1 = 0.2\n",
    "s2 = 0.25\n",
    "w1=0.7\n",
    "w2=0.3\n",
    "rho = 0.4\n",
    "\n",
    "V = 1000000\n",
    "\n",
    "alpha = 0.99\n",
    "\n",
    "d = Normal()"
   ],
   "outputs": [
    {
     "output_type": "execute_result",
     "data": {
      "text/plain": [
       "Normal{Float64}(μ=0.0, σ=1.0)"
      ]
     },
     "metadata": {},
     "execution_count": 1
    }
   ],
   "metadata": {}
  },
  {
   "cell_type": "code",
   "execution_count": 2,
   "source": [
    "var_port = w1^2*s1^2 + w2^2*s2^2 + 2*w1*w2*s1*s2*rho\n",
    "daily_sigma =  sqrt(var_port) / sqrt(252) \n",
    "\n",
    "VaR99 = V * daily_sigma * quantile.(d, [alpha]) \n",
    "ES99 = V * daily_sigma*(pdf.(d, [quantile.(d, [alpha])])/(1-alpha))\n",
    "\n",
    "@printf(\"VaR for rho %.2f is %.2f\", rho, VaR99[1])\n",
    "@printf(\"\\nES for rho %.2f is %.2f\", rho, ES99[1][1])\n"
   ],
   "outputs": [
    {
     "output_type": "stream",
     "name": "stdout",
     "text": [
      "VaR for rho 0.40 is 26872.34\n",
      "ES for rho 0.40 is 30786.69"
     ]
    }
   ],
   "metadata": {}
  },
  {
   "cell_type": "code",
   "execution_count": 3,
   "source": [
    "#Higher rho = 0.6\n",
    "\n",
    "rho = 0.6\n",
    "\n",
    "var_port = w1^2*s1^2 + w2^2*s2^2 + 2*w1*w2*s1*s2*rho\n",
    "daily_sigma =  sqrt(var_port) / sqrt(252) \n",
    "\n",
    "VaR99 = V * daily_sigma * quantile.(d, [alpha]) \n",
    "ES99 = V * daily_sigma*(pdf.(d, [quantile.(d, [alpha])])/(1-alpha))\n",
    "\n",
    "@printf(\"VaR for rho %.2f is %.2f\", rho, VaR99[1])\n",
    "@printf(\"\\nES for rho %.2f is %.2f\", rho, ES99[1][1])"
   ],
   "outputs": [
    {
     "output_type": "stream",
     "name": "stdout",
     "text": [
      "VaR for rho 0.60 is 28501.25\n",
      "ES for rho 0.60 is 32652.87"
     ]
    }
   ],
   "metadata": {}
  },
  {
   "cell_type": "code",
   "execution_count": 4,
   "source": [
    "#Higher correlation led to higher VaR and Expected Shortfall"
   ],
   "outputs": [],
   "metadata": {}
  },
  {
   "cell_type": "code",
   "execution_count": null,
   "source": [],
   "outputs": [],
   "metadata": {}
  }
 ],
 "metadata": {
  "kernelspec": {
   "display_name": "Julia 1.6.3",
   "language": "julia",
   "name": "julia-1.6"
  },
  "language_info": {
   "file_extension": ".jl",
   "name": "julia",
   "mimetype": "application/julia",
   "version": "1.6.3"
  }
 },
 "nbformat": 4,
 "nbformat_minor": 4
}