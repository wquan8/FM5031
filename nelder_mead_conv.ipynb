{
 "cells": [
  {
   "cell_type": "code",
   "execution_count": 5,
   "source": [
    "from scipy.optimize import minimize\n",
    "from numpy.random import rand\n",
    " \n",
    "# objective function\n",
    "def objective(x):\n",
    "\treturn (x[0]-1)**2.0 + x[1]**2.0\n",
    " \n",
    "# define range for input\n",
    "r_min, r_max = -5.0, 5.0\n",
    "# define the starting point as a random sample from the domain\n",
    "pt = r_min + rand(2) * (r_max - r_min)\n"
   ],
   "outputs": [
    {
     "output_type": "stream",
     "name": "stdout",
     "text": [
      "Status : Optimization terminated successfully.\n",
      "Total Evaluations: 93\n",
      "Solution: f([ 9.99969696e-01 -1.95223109e-05]) = 0.00000\n"
     ]
    }
   ],
   "metadata": {}
  },
  {
   "cell_type": "code",
   "execution_count": 4,
   "source": [
    "# perform the search\n",
    "result = minimize(objective, pt, method='nelder-mead')\n",
    "# summarize the result\n",
    "print('Status : %s' % result['message'])\n",
    "print('Total Evaluations: %d' % result['nfev'])\n",
    "# evaluate solution\n",
    "solution = result['x']\n",
    "evaluation = objective(solution)\n",
    "print('Solution: f(%s) = %.4f' % (solution, evaluation))"
   ],
   "outputs": [
    {
     "output_type": "execute_result",
     "data": {
      "text/plain": [
       "array([-4.20513558,  2.55535965])"
      ]
     },
     "metadata": {},
     "execution_count": 4
    }
   ],
   "metadata": {}
  }
 ],
 "metadata": {
  "orig_nbformat": 4,
  "language_info": {
   "name": "python",
   "version": "3.7.9",
   "mimetype": "text/x-python",
   "codemirror_mode": {
    "name": "ipython",
    "version": 3
   },
   "pygments_lexer": "ipython3",
   "nbconvert_exporter": "python",
   "file_extension": ".py"
  },
  "kernelspec": {
   "name": "python3",
   "display_name": "Python 3.7.9 64-bit ('py37': conda)"
  },
  "interpreter": {
   "hash": "5af440f7d90e7559485caef7b095f74ac19238a8c23b901ae318b7e4d48fcacf"
  }
 },
 "nbformat": 4,
 "nbformat_minor": 2
}