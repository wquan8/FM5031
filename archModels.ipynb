{
 "cells": [
  {
   "cell_type": "code",
   "execution_count": 1,
   "source": [
    "using ARCHModels"
   ],
   "outputs": [],
   "metadata": {}
  },
  {
   "cell_type": "code",
   "execution_count": 2,
   "source": [
    "autocor(BG96.^2, 1:10, demean=true) # re-exported from StatsBase"
   ],
   "outputs": [
    {
     "output_type": "execute_result",
     "data": {
      "text/plain": [
       "10-element Vector{Float64}:\n",
       " 0.22294073831639766\n",
       " 0.17663183540117078\n",
       " 0.14086005904595456\n",
       " 0.1263198344036979\n",
       " 0.18922204038617135\n",
       " 0.09068404029331875\n",
       " 0.08465365332525085\n",
       " 0.09671690899919724\n",
       " 0.09217329577285414\n",
       " 0.11984168975215709"
      ]
     },
     "metadata": {},
     "execution_count": 2
    }
   ],
   "metadata": {}
  },
  {
   "cell_type": "code",
   "execution_count": 3,
   "source": [
    "ARCHLMTest(BG96, 1)"
   ],
   "outputs": [
    {
     "output_type": "execute_result",
     "data": {
      "text/plain": [
       "ARCH LM test for conditional heteroskedasticity\n",
       "-----------------------------------------------\n",
       "Population details:\n",
       "    parameter of interest:   T⋅R² in auxiliary regression\n",
       "    value under h_0:         0\n",
       "    point estimate:          98.1211\n",
       "\n",
       "Test summary:\n",
       "    outcome with 95% confidence: reject h_0\n",
       "    p-value:                     <1e-22\n",
       "\n",
       "Details:\n",
       "    sample size:                    1974\n",
       "    number of lags:                 1\n",
       "    LM statistic:                   98.1211\n"
      ]
     },
     "metadata": {},
     "execution_count": 3
    }
   ],
   "metadata": {}
  },
  {
   "cell_type": "code",
   "execution_count": 4,
   "source": [
    "fit(GARCH{1, 1}, BG96)"
   ],
   "outputs": [
    {
     "output_type": "execute_result",
     "data": {
      "text/plain": [
       "\n",
       "GARCH{1, 1} model with Gaussian errors, T=1974.\n",
       "\n",
       "Mean equation parameters:\n",
       "───────────────────────────────────────────────\n",
       "      Estimate   Std.Error    z value  Pr(>|z|)\n",
       "───────────────────────────────────────────────\n",
       "μ  -0.00616637  0.00920152  -0.670147    0.5028\n",
       "───────────────────────────────────────────────\n",
       "\n",
       "Volatility parameters:\n",
       "─────────────────────────────────────────────\n",
       "     Estimate   Std.Error   z value  Pr(>|z|)\n",
       "─────────────────────────────────────────────\n",
       "ω   0.0107606  0.00649303   1.65725    0.0975\n",
       "β₁  0.805875   0.0724765   11.1191     <1e-27\n",
       "α₁  0.153411   0.0536404    2.86       0.0042\n",
       "─────────────────────────────────────────────\n"
      ]
     },
     "metadata": {},
     "execution_count": 4
    }
   ],
   "metadata": {}
  }
 ],
 "metadata": {
  "orig_nbformat": 4,
  "language_info": {
   "file_extension": ".jl",
   "name": "julia",
   "mimetype": "application/julia",
   "version": "1.6.3"
  },
  "kernelspec": {
   "name": "julia-1.6",
   "display_name": "Julia 1.6.3",
   "language": "julia"
  }
 },
 "nbformat": 4,
 "nbformat_minor": 2
}