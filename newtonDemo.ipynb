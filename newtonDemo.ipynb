{
 "cells": [
  {
   "cell_type": "code",
   "execution_count": 1,
   "source": [
    "import numpy as np\r\n",
    "\r\n",
    "f = lambda x: x**2 - 2\r\n",
    "f_prime = lambda x: 2*x\r\n",
    "newton_raphson = 1.4 - (f(1.4))/(f_prime(1.4))\r\n",
    "\r\n",
    "print(\"newton_raphson =\", newton_raphson)\r\n",
    "print(\"sqrt(2) =\", np.sqrt(2))"
   ],
   "outputs": [
    {
     "output_type": "stream",
     "name": "stdout",
     "text": [
      "newton_raphson = 1.4142857142857144\n",
      "sqrt(2) = 1.4142135623730951\n"
     ]
    }
   ],
   "metadata": {}
  },
  {
   "cell_type": "code",
   "execution_count": 2,
   "source": [
    "def my_newton(f, df, x0, tol):\r\n",
    "    # output is an estimation of the root of f \r\n",
    "    # using the Newton Raphson method\r\n",
    "    # recursive implementation\r\n",
    "    if abs(f(x0)) < tol:\r\n",
    "        return x0\r\n",
    "    else:\r\n",
    "        return my_newton(f, df, x0 - f(x0)/df(x0), tol)"
   ],
   "outputs": [],
   "metadata": {}
  },
  {
   "cell_type": "code",
   "execution_count": 4,
   "source": [
    "estimate = my_newton(f, f_prime, 0.9, 1e-6)\r\n",
    "print(\"estimate =\", estimate)\r\n",
    "print(\"sqrt(2) =\", np.sqrt(2))"
   ],
   "outputs": [
    {
     "output_type": "stream",
     "name": "stdout",
     "text": [
      "estimate = 1.4142135624729537\n",
      "sqrt(2) = 1.4142135623730951\n"
     ]
    }
   ],
   "metadata": {}
  }
 ],
 "metadata": {
  "orig_nbformat": 4,
  "kernelspec": {
   "name": "python3",
   "display_name": "Python 3",
   "language": "python"
  },
  "language_info": {
   "name": "python",
   "version": "3.7.10",
   "mimetype": "text/x-python",
   "codemirror_mode": {
    "name": "ipython",
    "version": 3
   },
   "pygments_lexer": "ipython3",
   "nbconvert_exporter": "python",
   "file_extension": ".py"
  }
 },
 "nbformat": 4,
 "nbformat_minor": 2
}